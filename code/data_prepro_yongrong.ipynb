{
 "cells": [
  {
   "cell_type": "code",
   "execution_count": 1,
   "metadata": {},
   "outputs": [],
   "source": [
    "import pickle as pkl\n",
    "import numpy as np\n",
    "import matplotlib.pyplot as plt\n",
    "import torch\n",
    "import cv2\n",
    "\n",
    "%load_ext autoreload\n",
    "%autoreload 2"
   ]
  },
  {
   "cell_type": "code",
   "execution_count": 2,
   "metadata": {},
   "outputs": [
    {
     "data": {
      "text/plain": [
       "'\\nInformation about the dataset\\n\\n#uv and green?\\n#input downscale from 72 to 18? (input-mean)/std?\\n#input with no preprocessing, to keep it consistent with autoencoder model where downscale from 56 to 28, input-mean\\n#how many time lags? ... 30 time lags\\n\\'mean\\': 36.979288270899204, \\'sd\\': 36.98463253226166\\n\\nThese fields may use different random seed of stimulus presentation sequence\\n\"1_ventral1_20210929\": 07\\n\"2_ventral1_20210929\": 10\\n\"1_ventral2_20210929\": 08\\n\"2_ventral2_20210929\": 18\\n\"3_ventral2_20210929\": 19\\n\"4_ventral2_20210929\": 09\\n\"5_ventral2_20210929\": 19\\n\"1_ventral1_20210930\": 05\\n\"1_ventral2_20210930\": 07\\n\"2_ventral2_20210930\": 06\\n\"3_ventral2_20210930\": 09\\n'"
      ]
     },
     "execution_count": 2,
     "metadata": {},
     "output_type": "execute_result"
    }
   ],
   "source": [
    "'''\n",
    "Information about the dataset\n",
    "\n",
    "#uv and green?\n",
    "#input downscale from 72 to 18? (input-mean)/std?\n",
    "#input with no preprocessing, to keep it consistent with autoencoder model where downscale from 56 to 28, input-mean\n",
    "#how many time lags? ... 30 time lags\n",
    "'mean': 36.979288270899204, 'sd': 36.98463253226166\n",
    "\n",
    "These fields may use different random seed of stimulus presentation sequence\n",
    "\"1_ventral1_20210929\": 07\n",
    "\"2_ventral1_20210929\": 10\n",
    "\"1_ventral2_20210929\": 08\n",
    "\"2_ventral2_20210929\": 18\n",
    "\"3_ventral2_20210929\": 19\n",
    "\"4_ventral2_20210929\": 09\n",
    "\"5_ventral2_20210929\": 19\n",
    "\"1_ventral1_20210930\": 05\n",
    "\"1_ventral2_20210930\": 07\n",
    "\"2_ventral2_20210930\": 06\n",
    "\"3_ventral2_20210930\": 09\n",
    "'''"
   ]
  },
  {
   "cell_type": "code",
   "execution_count": 3,
   "metadata": {},
   "outputs": [],
   "source": [
    "with open(r'train_inputs.pkl', \"rb\") as f:\n",
    "    train_inputs = pkl.load(f)\n",
    "with open(r'train_targets.pkl', \"rb\") as f:\n",
    "    train_targest = pkl.load(f)\n",
    "\n",
    "with open(r'test_inputs.pkl', \"rb\") as f:\n",
    "    test_inputs = pkl.load(f)\n",
    "with open(r'test_targets.pkl', \"rb\") as f:\n",
    "    test_targest = pkl.load(f)"
   ]
  },
  {
   "cell_type": "code",
   "execution_count": 4,
   "metadata": {},
   "outputs": [
    {
     "data": {
      "text/plain": [
       "dict_keys(['1_ventral1_20210929', '2_ventral1_20210929', '1_ventral2_20210929', '2_ventral2_20210929', '3_ventral2_20210929', '4_ventral2_20210929', '5_ventral2_20210929', '1_ventral1_20210930', '1_ventral2_20210930', '2_ventral2_20210930', '3_ventral2_20210930'])"
      ]
     },
     "execution_count": 4,
     "metadata": {},
     "output_type": "execute_result"
    }
   ],
   "source": [
    "train_inputs.keys()"
   ]
  },
  {
   "cell_type": "code",
   "execution_count": 5,
   "metadata": {},
   "outputs": [
    {
     "name": "stdout",
     "output_type": "stream",
     "text": [
      "(16200, 2, 72, 64) [14  5] 255\n",
      "(16200, 86)\n",
      "(750, 2, 72, 64) [14  5] 255\n",
      "(750, 86)\n",
      "(16200, 2, 36, 32) [14  5] 255\n",
      "(750, 2, 36, 32) [14  5] 255\n"
     ]
    }
   ],
   "source": [
    "# preprocess, torch to array, undo normalization, float to int, transpose\n",
    "fieldname = '4_ventral2_20210929'\n",
    "datamean, datasd = 36.98, 36.98\n",
    "train_input1 = np.transpose((np.around(train_inputs[fieldname].cpu().detach().numpy()*datasd+datamean)).astype(int), (1,0,2,3))\n",
    "train_response1 = train_targest[fieldname].cpu().detach().numpy()\n",
    "test_input1 = np.transpose((np.around(test_inputs[fieldname].cpu().detach().numpy()*datasd+datamean)).astype(int), (1,0,2,3))\n",
    "test_response1 = test_targest[fieldname].cpu().detach().numpy()\n",
    "print (train_input1.shape, np.min(train_input1,axis=(0,2,3)), np.max(train_input1)) # green+UV\n",
    "print (train_response1.shape)\n",
    "print (test_input1.shape, np.min(test_input1,axis=(0,2,3)), np.max(test_input1))\n",
    "print (test_response1.shape)\n",
    "\n",
    "#resize images\n",
    "scale = 0.5\n",
    "temps = np.zeros((train_input1.shape[0], train_input1.shape[1], int(train_input1.shape[2]*scale),\\\n",
    "                  int(train_input1.shape[3]*scale)), dtype=np.uint8)\n",
    "for ii in range(len(temps)):\n",
    "    temp = np.zeros((train_input1.shape[2], train_input1.shape[3],3), dtype=np.uint8)\n",
    "    temp[:,:,:2]=np.transpose(train_input1[ii], (1,2,0))\n",
    "    temp = np.uint8(np.around((cv2.resize(temp/255.0, None, fx=scale, fy=scale, interpolation=cv2.INTER_AREA))*255.0))\n",
    "    temps[ii] = np.transpose(temp[:,:,:2], (2,0,1))\n",
    "train_input1 = np.copy(temps)\n",
    "print (train_input1.shape, np.min(train_input1,axis=(0,2,3)), np.max(train_input1)) \n",
    "temps = np.zeros((test_input1.shape[0], test_input1.shape[1], int(test_input1.shape[2]*scale),\\\n",
    "                  int(test_input1.shape[3]*scale)), dtype=np.uint8)\n",
    "for ii in range(len(temps)):\n",
    "    temp = np.zeros((test_input1.shape[2], test_input1.shape[3],3), dtype=np.uint8)\n",
    "    temp[:,:,:2]=np.transpose(test_input1[ii], (1,2,0))\n",
    "    temp = np.uint8(np.around((cv2.resize(temp/255.0, None, fx=scale, fy=scale, interpolation=cv2.INTER_AREA))*255.0))\n",
    "    temps[ii] = np.transpose(temp[:,:,:2], (2,0,1))\n",
    "test_input1 = np.copy(temps)\n",
    "print (test_input1.shape, np.min(test_input1,axis=(0,2,3)), np.max(test_input1)) "
   ]
  },
  {
   "cell_type": "code",
   "execution_count": 6,
   "metadata": {},
   "outputs": [
    {
     "data": {
      "text/plain": [
       "<matplotlib.image.AxesImage at 0x7f744974d070>"
      ]
     },
     "execution_count": 6,
     "metadata": {},
     "output_type": "execute_result"
    },
    {
     "data": {
      "image/png": "[encoded data removed]",
      "text/plain": [
       "<Figure size 432x288 with 1 Axes>"
      ]
     },
     "metadata": {
      "needs_background": "light"
     },
     "output_type": "display_data"
    }
   ],
   "source": [
    "tempbgr=np.zeros((36,32,3),np.uint8)\n",
    "tempbgr[:,:,:2]=np.transpose(test_input1[370],(1,2,0))[...,::-1]\n",
    "plt.imshow(tempbgr[:,:,::-1])"
   ]
  },
  {
   "cell_type": "code",
   "execution_count": 7,
   "metadata": {},
   "outputs": [
    {
     "data": {
      "text/plain": [
       "<matplotlib.image.AxesImage at 0x7f7449635cd0>"
      ]
     },
     "execution_count": 7,
     "metadata": {},
     "output_type": "execute_result"
    },
    {
     "data": {
      "image/png": "[encoded data removed]",
      "text/plain": [
       "<Figure size 432x288 with 1 Axes>"
      ]
     },
     "metadata": {
      "needs_background": "light"
     },
     "output_type": "display_data"
    }
   ],
   "source": [
    "tempbgr=np.zeros((36,32,3),np.uint8)\n",
    "tempbgr[:,:,:2]=np.transpose(train_input1[1300],(1,2,0))[...,::-1]\n",
    "plt.imshow(tempbgr[:,:,::-1])"
   ]
  },
  {
   "cell_type": "markdown",
   "metadata": {},
   "source": [
    "# Generate data loader for model training"
   ]
  },
  {
   "cell_type": "code",
   "execution_count": null,
   "metadata": {},
   "outputs": [],
   "source": [
    "def get_sdm(stim, nlag):    \n",
    "    \"\"\"\n",
    "    Get stimulus design matrix. \n",
    "    ::nlag: time lag, how many frames of the stimulus we \n",
    "            assumed to trigger the response. nlag = 5 is good enough for\n",
    "            our data.\n",
    "    \"\"\"\n",
    "    n_samples = stim.shape[0]\n",
    "    n_features = stim.shape[1:]\n",
    "    frames = np.zeros([n_samples, np.prod(n_features) * nlag])\n",
    "    for i in range(n_samples):\n",
    "        if i < nlag-1:\n",
    "            pad = np.zeros([nlag-i-1, *n_features])\n",
    "            frame = np.ravel(np.vstack([pad, stim[:i+1]]))\n",
    "        else:\n",
    "            frame = np.ravel(stim[i-nlag+1:i+1])\n",
    "        frames[i] = frame\n",
    "    return frames"
   ]
  },
  {
   "cell_type": "markdown",
   "metadata": {},
   "source": [
    "## time lag 50"
   ]
  },
  {
   "cell_type": "code",
   "execution_count": 94,
   "metadata": {},
   "outputs": [
    {
     "name": "stdout",
     "output_type": "stream",
     "text": [
      "(16200, 2, 50, 36, 32)\n",
      "(750, 2, 50, 36, 32)\n"
     ]
    }
   ],
   "source": [
    "#save train and test stimulus separately\n",
    "nt = 50 # time lag\n",
    "nh = 36\n",
    "nw = 32\n",
    "dims = [nt, nh, nw]\n",
    "\n",
    "Stim=train_input1[:,1,:,:]\n",
    "X_UV = get_sdm(Stim, nt)\n",
    "X_UV = np.reshape(X_UV,(-1,nt,nh,nw))\n",
    "X_UV = np.expand_dims(X_UV,axis=1)\n",
    "Stim=train_input1[:,0,:,:]\n",
    "X_G = get_sdm(Stim, nt)\n",
    "X_G = np.reshape(X_G,(-1,nt,nh,nw))\n",
    "X_G = np.expand_dims(X_G,axis=1)\n",
    "train_input2=np.concatenate((X_UV,X_G),axis=1).astype(np.uint8) #UV+g\n",
    "print (train_input2.shape) #shape: batch_size,color_channel,time_lags,height,width\n",
    "#\n",
    "Stim=test_input1[:,1,:,:]\n",
    "X_UV = get_sdm(Stim, nt)\n",
    "X_UV = np.reshape(X_UV,(-1,nt,nh,nw))\n",
    "X_UV = np.expand_dims(X_UV,axis=1)\n",
    "Stim=test_input1[:,0,:,:]\n",
    "X_G = get_sdm(Stim, nt)\n",
    "X_G = np.reshape(X_G,(-1,nt,nh,nw))\n",
    "X_G = np.expand_dims(X_G,axis=1)\n",
    "test_input2=np.concatenate((X_UV,X_G),axis=1).astype(np.uint8) #UV+g\n",
    "print (test_input2.shape) #shape: batch_size,color_channel,time_lags,height,width"
   ]
  },
  {
   "cell_type": "code",
   "execution_count": 96,
   "metadata": {},
   "outputs": [
    {
     "data": {
      "text/plain": [
       "<matplotlib.image.AxesImage at 0x7f897dcc3b50>"
      ]
     },
     "execution_count": 96,
     "metadata": {},
     "output_type": "execute_result"
    },
    {
     "data": {
      "image/png": "[encoded data removed]",
      "text/plain": [
       "<Figure size 432x288 with 1 Axes>"
      ]
     },
     "metadata": {
      "needs_background": "light"
     },
     "output_type": "display_data"
    }
   ],
   "source": [
    "tempbgr=np.zeros((36,32,3),np.uint8)\n",
    "tempbgr[:,:,:2]=np.transpose(train_input2[370,:,10],(1,2,0))\n",
    "plt.imshow(tempbgr[:,:,::-1])"
   ]
  },
  {
   "cell_type": "code",
   "execution_count": 97,
   "metadata": {},
   "outputs": [
    {
     "data": {
      "text/plain": [
       "<matplotlib.image.AxesImage at 0x7f897dc36700>"
      ]
     },
     "execution_count": 97,
     "metadata": {},
     "output_type": "execute_result"
    },
    {
     "data": {
      "image/png": "[encoded data removed]",
      "text/plain": [
       "<Figure size 432x288 with 1 Axes>"
      ]
     },
     "metadata": {
      "needs_background": "light"
     },
     "output_type": "display_data"
    }
   ],
   "source": [
    "tempbgr=np.zeros((36,32,3),np.uint8)\n",
    "tempbgr[:,:,:2]=np.transpose(test_input2[370,:,10],(1,2,0))\n",
    "plt.imshow(tempbgr[:,:,::-1])"
   ]
  },
  {
   "cell_type": "code",
   "execution_count": 98,
   "metadata": {},
   "outputs": [],
   "source": [
    "#np.save('natural_20210929ventral_train_input_tlag50.npy', train_input2)\n",
    "#np.save('natural_20210929ventral_test_input_tlag50.npy', test_input2)"
   ]
  },
  {
   "cell_type": "code",
   "execution_count": 95,
   "metadata": {},
   "outputs": [
    {
     "data": {
      "text/plain": [
       "(255, 5)"
      ]
     },
     "execution_count": 95,
     "metadata": {},
     "output_type": "execute_result"
    }
   ],
   "source": [
    "np.max(test_input2), np.min(test_input2[50:])"
   ]
  },
  {
   "cell_type": "code",
   "execution_count": null,
   "metadata": {},
   "outputs": [],
   "source": []
  },
  {
   "cell_type": "code",
   "execution_count": null,
   "metadata": {},
   "outputs": [],
   "source": []
  }
 ],
 "metadata": {
  "kernelspec": {
   "display_name": "Python 3 (ipykernel)",
   "language": "python",
   "name": "python3"
  },
  "language_info": {
   "codemirror_mode": {
    "name": "ipython",
    "version": 3
   },
   "file_extension": ".py",
   "mimetype": "text/x-python",
   "name": "python",
   "nbconvert_exporter": "python",
   "pygments_lexer": "ipython3",
   "version": "3.8.0"
  }
 },
 "nbformat": 4,
 "nbformat_minor": 4
}
