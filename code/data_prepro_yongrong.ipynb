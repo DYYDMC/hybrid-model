{
 "cells": [
  {
   "cell_type": "code",
   "execution_count": 53,
   "metadata": {},
   "outputs": [
    {
     "name": "stdout",
     "output_type": "stream",
     "text": [
      "The autoreload extension is already loaded. To reload it, use:\n",
      "  %reload_ext autoreload\n"
     ]
    }
   ],
   "source": [
    "import pickle as pkl\n",
    "import numpy as np\n",
    "import matplotlib.pyplot as plt\n",
    "import torch\n",
    "import cv2\n",
    "import os\n",
    "%load_ext autoreload\n",
    "%autoreload 2"
   ]
  },
  {
   "cell_type": "code",
   "execution_count": 17,
   "metadata": {},
   "outputs": [],
   "source": [
    "path_to_data = '/gpfs01/euler/data/Data/Behrens_Hoefling/export/yr/'"
   ]
  },
  {
   "cell_type": "code",
   "execution_count": 77,
   "metadata": {},
   "outputs": [],
   "source": [
    "path_to_seq = '/gpfs01/euler/User/ydeng/data/MouseCamCorrected/left/RandomSequences.npy'"
   ]
  },
  {
   "cell_type": "code",
   "execution_count": 78,
   "metadata": {},
   "outputs": [],
   "source": [
    "seq = np.load(path_to_seq)"
   ]
  },
  {
   "cell_type": "code",
   "execution_count": 80,
   "metadata": {},
   "outputs": [
    {
     "data": {
      "text/plain": [
       "(108, 20)"
      ]
     },
     "execution_count": 80,
     "metadata": {},
     "output_type": "execute_result"
    }
   ],
   "source": [
    "seq.shape"
   ]
  },
  {
   "cell_type": "code",
   "execution_count": 81,
   "metadata": {},
   "outputs": [],
   "source": [
    "seq_09 = seq[:,9]"
   ]
  },
  {
   "cell_type": "code",
   "execution_count": 84,
   "metadata": {},
   "outputs": [
    {
     "data": {
      "text/plain": [
       "(array([ 57,  95,  24,  68, 105,  89,  22,  78,  58,  39,   7,  71,  42,\n",
       "         45,  81,  12,  93,  55,  85,   2,  16,  33,  56,  14,  82,  54,\n",
       "         53,  17,  34,  70,  60,  11, 100,  19,   9,  25,   3,  84,  18,\n",
       "         76,  40,  29,  47,  23,  98,  44,  10,  96,  27, 106,  59,   5,\n",
       "         49,  46,  99,  43,  32,  64,  36,  65,  20,  73,  87,  86,  62,\n",
       "         26,  75,  72,  15,  61,   8,  80, 102, 103,  91, 101,   1,  13,\n",
       "         69,  21,  30,  52,  63,   6,  74, 107,  31, 104,  48,  90,   4,\n",
       "         88,  83,  41,  50,   0,  67,  38,  94,  35,  28,  79,  37,  66,\n",
       "         97,  51,  77,  92], dtype=uint8),\n",
       " array([  5,  51,  97,  78,  33, 100,  42,  84,  43,  37,  13, 101,  69,\n",
       "         25,  67,   7,  52,  86,   1,  79,  65,  63,  44,   8,  30,  91,\n",
       "        106,  59,   9,  95,  57,  16,  22,  62,  28,  74,  76,  23,  82,\n",
       "         14,  49,   2,  19,  53,  39, 104,  47,  73,  32,  10,  35,  61,\n",
       "         93,  26,  55,  36,  66,  40,  98,  15,  17,  60,  99,  70,  41,\n",
       "          4,   3,  90,  12,  20,  83,  31,  81,   6,  21, 107,  54,  24,\n",
       "         50,  75,  92, 102,  29,  11,  48,  96,  46,  80,  94,  77,   0,\n",
       "        105,  18,  88,  38,  87,  45,  89,  68,  56,  64,  34,  27,  58,\n",
       "         71, 103,  85,  72], dtype=uint8))"
      ]
     },
     "execution_count": 84,
     "metadata": {},
     "output_type": "execute_result"
    }
   ],
   "source": [
    "seq_09,seq_19"
   ]
  },
  {
   "cell_type": "code",
   "execution_count": 83,
   "metadata": {},
   "outputs": [],
   "source": [
    "seq_19 = seq[:,19]"
   ]
  },
  {
   "cell_type": "code",
   "execution_count": 18,
   "metadata": {},
   "outputs": [
    {
     "data": {
      "text/plain": [
       "['val_targets.pkl',\n",
       " 'train_targets.pkl',\n",
       " 'val_inputs.pkl',\n",
       " 'test_inputs.pkl',\n",
       " 'data_export_yr_clean.ipynb',\n",
       " 'train_inputs.pkl',\n",
       " 'test_targets.pkl']"
      ]
     },
     "execution_count": 18,
     "metadata": {},
     "output_type": "execute_result"
    }
   ],
   "source": [
    "os.listdir(path_to_data)"
   ]
  },
  {
   "cell_type": "code",
   "execution_count": 2,
   "metadata": {},
   "outputs": [
    {
     "data": {
      "text/plain": [
       "'\\nInformation about the dataset\\n\\n#uv and green?\\n#input downscale from 72 to 18? (input-mean)/std?\\n#input with no preprocessing, to keep it consistent with autoencoder model where downscale from 56 to 28, input-mean\\n#how many time lags? ... 30 time lags\\n\\'mean\\': 36.979288270899204, \\'sd\\': 36.98463253226166\\n\\nThese fields may use different random seed of stimulus presentation sequence\\n\"1_ventral1_20210929\": 07\\n\"2_ventral1_20210929\": 10\\n\"1_ventral2_20210929\": 08\\n\"2_ventral2_20210929\": 18\\n\"3_ventral2_20210929\": 19\\n\"4_ventral2_20210929\": 09\\n\"5_ventral2_20210929\": 19\\n\"1_ventral1_20210930\": 05\\n\"1_ventral2_20210930\": 07\\n\"2_ventral2_20210930\": 06\\n\"3_ventral2_20210930\": 09\\n'"
      ]
     },
     "execution_count": 2,
     "metadata": {},
     "output_type": "execute_result"
    }
   ],
   "source": [
    "'''\n",
    "Information about the dataset\n",
    "\n",
    "#uv and green?\n",
    "#input downscale from 72 to 18? (input-mean)/std?\n",
    "#input with no preprocessing, to keep it consistent with autoencoder model where downscale from 56 to 28, input-mean\n",
    "#how many time lags? ... 30 time lags\n",
    "'mean': 36.979288270899204, 'sd': 36.98463253226166\n",
    "\n",
    "These fields may use different random seed of stimulus presentation sequence\n",
    "\"1_ventral1_20210929\": 07\n",
    "\"2_ventral1_20210929\": 10\n",
    "\"1_ventral2_20210929\": 08\n",
    "\"2_ventral2_20210929\": 18\n",
    "\"3_ventral2_20210929\": 19\n",
    "\"4_ventral2_20210929\": 09\n",
    "\"5_ventral2_20210929\": 19\n",
    "\"1_ventral1_20210930\": 05\n",
    "\"1_ventral2_20210930\": 07\n",
    "\"2_ventral2_20210930\": 06\n",
    "\"3_ventral2_20210930\": 09\n",
    "'''"
   ]
  },
  {
   "cell_type": "code",
   "execution_count": 19,
   "metadata": {},
   "outputs": [],
   "source": [
    "with open(path_to_data+'train_inputs.pkl', \"rb\") as f:\n",
    "    train_inputs = pkl.load(f)\n",
    "with open(path_to_data+'train_targets.pkl', \"rb\") as f:\n",
    "    train_targest = pkl.load(f)\n",
    "\n",
    "with open(path_to_data+'test_inputs.pkl', \"rb\") as f:\n",
    "    test_inputs = pkl.load(f)\n",
    "with open(path_to_data+'test_targets.pkl', \"rb\") as f:\n",
    "    test_targest = pkl.load(f)"
   ]
  },
  {
   "cell_type": "code",
   "execution_count": 20,
   "metadata": {},
   "outputs": [
    {
     "data": {
      "text/plain": [
       "dict_keys(['1_ventral1_20210929', '2_ventral1_20210929', '1_ventral2_20210929', '2_ventral2_20210929', '3_ventral2_20210929', '4_ventral2_20210929', '5_ventral2_20210929', '1_ventral1_20210930', '1_ventral2_20210930', '2_ventral2_20210930', '3_ventral2_20210930'])"
      ]
     },
     "execution_count": 20,
     "metadata": {},
     "output_type": "execute_result"
    }
   ],
   "source": [
    "train_inputs.keys()"
   ]
  },
  {
   "cell_type": "code",
   "execution_count": 21,
   "metadata": {},
   "outputs": [],
   "source": [
    "field_name = '4_ventral2_20210929'"
   ]
  },
  {
   "cell_type": "code",
   "execution_count": 22,
   "metadata": {},
   "outputs": [],
   "source": [
    "datamean, datasd = 36.98, 36.98"
   ]
  },
  {
   "cell_type": "code",
   "execution_count": 24,
   "metadata": {},
   "outputs": [
    {
     "data": {
      "text/plain": [
       "torch.Size([2, 16200, 72, 64])"
      ]
     },
     "execution_count": 24,
     "metadata": {},
     "output_type": "execute_result"
    }
   ],
   "source": [
    "train_inputs[field_name].shape"
   ]
  },
  {
   "cell_type": "code",
   "execution_count": 65,
   "metadata": {},
   "outputs": [
    {
     "data": {
      "text/plain": [
       "(16200, 2, 72, 64)"
      ]
     },
     "execution_count": 65,
     "metadata": {},
     "output_type": "execute_result"
    }
   ],
   "source": [
    "train_input1.shape"
   ]
  },
  {
   "cell_type": "code",
   "execution_count": null,
   "metadata": {},
   "outputs": [],
   "source": []
  },
  {
   "cell_type": "code",
   "execution_count": 91,
   "metadata": {},
   "outputs": [],
   "source": [
    "# random seq 09\n",
    "train_input_09 = np.transpose((np.around(train_inputs['3_ventral2_20210930'].cpu().detach().numpy()*datasd+datamean)).astype(int), (1,0,2,3))"
   ]
  },
  {
   "cell_type": "code",
   "execution_count": 92,
   "metadata": {},
   "outputs": [],
   "source": [
    "# random seq 19\n",
    "train_input_19 = np.transpose((np.around(train_inputs['3_ventral2_20210929'].cpu().detach().numpy()*datasd+datamean)).astype(int), (1,0,2,3))"
   ]
  },
  {
   "cell_type": "code",
   "execution_count": 93,
   "metadata": {},
   "outputs": [
    {
     "data": {
      "text/plain": [
       "<matplotlib.image.AxesImage at 0x7f344d0bc850>"
      ]
     },
     "execution_count": 93,
     "metadata": {},
     "output_type": "execute_result"
    },
    {
     "data": {
      "image/png": "[encoded data removed]",
      "text/plain": [
       "<Figure size 432x288 with 2 Axes>"
      ]
     },
     "metadata": {
      "needs_background": "light"
     },
     "output_type": "display_data"
    }
   ],
   "source": [
    "plt.subplot(121)\n",
    "plt.imshow(train_input_09[0,0,:,:])\n",
    "plt.subplot(122)\n",
    "plt.imshow(train_input_19[0,0,:,:])"
   ]
  },
  {
   "cell_type": "code",
   "execution_count": 94,
   "metadata": {},
   "outputs": [
    {
     "data": {
      "text/plain": [
       "array([[ True,  True,  True, ...,  True,  True,  True],\n",
       "       [ True,  True,  True, ...,  True,  True,  True],\n",
       "       [ True,  True,  True, ...,  True,  True,  True],\n",
       "       ...,\n",
       "       [ True,  True,  True, ...,  True,  True,  True],\n",
       "       [ True,  True,  True, ...,  True,  True,  True],\n",
       "       [ True,  True,  True, ...,  True,  True,  True]])"
      ]
     },
     "execution_count": 94,
     "metadata": {},
     "output_type": "execute_result"
    }
   ],
   "source": [
    "train_input_09[0,0,:,:] == train_input_19[0,0,:,:]"
   ]
  },
  {
   "cell_type": "code",
   "execution_count": 28,
   "metadata": {},
   "outputs": [
    {
     "data": {
      "text/plain": [
       "(16200, 86)"
      ]
     },
     "execution_count": 28,
     "metadata": {},
     "output_type": "execute_result"
    }
   ],
   "source": [
    "train_response1 = train_targest[field_name].cpu().detach().numpy()\n",
    "train_response1.shape"
   ]
  },
  {
   "cell_type": "code",
   "execution_count": 35,
   "metadata": {},
   "outputs": [
    {
     "data": {
      "text/plain": [
       "(array([14,  5]), array([255, 255]))"
      ]
     },
     "execution_count": 35,
     "metadata": {},
     "output_type": "execute_result"
    }
   ],
   "source": [
    "np.min(train_input1,axis=(0,2,3)),np.max(train_input1,axis=(0,2,3)) # green+UV"
   ]
  },
  {
   "cell_type": "code",
   "execution_count": 30,
   "metadata": {},
   "outputs": [
    {
     "name": "stdout",
     "output_type": "stream",
     "text": [
      "(750, 2, 72, 64) (750, 86)\n"
     ]
    }
   ],
   "source": [
    "test_input1 = np.transpose((np.around(test_inputs[field_name].cpu().detach().numpy()*datasd+datamean)).astype(int), (1,0,2,3))\n",
    "test_response1 = test_targest[field_name].cpu().detach().numpy()\n",
    "print(test_input1.shape,test_response1.shape)"
   ]
  },
  {
   "cell_type": "code",
   "execution_count": 36,
   "metadata": {},
   "outputs": [
    {
     "data": {
      "text/plain": [
       "(array([14,  5]), array([255, 255]))"
      ]
     },
     "execution_count": 36,
     "metadata": {},
     "output_type": "execute_result"
    }
   ],
   "source": [
    "np.min(test_input1,axis=(0,2,3)),np.max(test_input1,axis=(0,2,3)) # green+UV"
   ]
  },
  {
   "cell_type": "markdown",
   "metadata": {},
   "source": [
    "#### resize images"
   ]
  },
  {
   "cell_type": "code",
   "execution_count": 37,
   "metadata": {},
   "outputs": [],
   "source": [
    "scale = 0.5"
   ]
  },
  {
   "cell_type": "markdown",
   "metadata": {},
   "source": [
    "#### for train input"
   ]
  },
  {
   "cell_type": "code",
   "execution_count": 52,
   "metadata": {},
   "outputs": [
    {
     "name": "stdout",
     "output_type": "stream",
     "text": [
      "(16200, 2, 36, 32)\n"
     ]
    }
   ],
   "source": [
    "temps = np.zeros((train_input1.shape[0], train_input1.shape[1],\n",
    "                  int(train_input1.shape[2]*scale),\\\n",
    "                  int(train_input1.shape[3]*scale)), dtype=np.uint8)\n",
    "print(temps.shape)"
   ]
  },
  {
   "cell_type": "code",
   "execution_count": 69,
   "metadata": {},
   "outputs": [],
   "source": [
    "for ii in range(len(temps)):\n",
    "    temp = np.zeros((train_input1.shape[2], train_input1.shape[3],3), dtype=np.uint8)\n",
    "    temp[:,:,:2]=np.transpose(train_input1[ii], (1,2,0))\n",
    "    temp = np.uint8(np.around((cv2.resize(temp/255.0, None, fx=scale, fy=scale, interpolation=cv2.INTER_AREA))*255.0))\n",
    "    temps[ii] = np.transpose(temp[:,:,:2], (2,0,1))"
   ]
  },
  {
   "cell_type": "code",
   "execution_count": 71,
   "metadata": {},
   "outputs": [],
   "source": [
    "train_input1 = np.copy(temps)"
   ]
  },
  {
   "cell_type": "code",
   "execution_count": 72,
   "metadata": {},
   "outputs": [
    {
     "name": "stdout",
     "output_type": "stream",
     "text": [
      "(16200, 2, 36, 32) [14  5] 255\n"
     ]
    }
   ],
   "source": [
    "print (train_input1.shape, np.min(train_input1,axis=(0,2,3)), np.max(train_input1)) "
   ]
  },
  {
   "cell_type": "markdown",
   "metadata": {},
   "source": [
    "#### for test input"
   ]
  },
  {
   "cell_type": "code",
   "execution_count": 73,
   "metadata": {},
   "outputs": [],
   "source": [
    "del temps\n",
    "temps = np.zeros((test_input1.shape[0], test_input1.shape[1], \n",
    "                  int(test_input1.shape[2]*scale),\\\n",
    "                  int(test_input1.shape[3]*scale)), dtype=np.uint8)"
   ]
  },
  {
   "cell_type": "code",
   "execution_count": 74,
   "metadata": {},
   "outputs": [
    {
     "name": "stdout",
     "output_type": "stream",
     "text": [
      "(750, 2, 36, 32) [14  5] 255\n"
     ]
    }
   ],
   "source": [
    "for ii in range(len(temps)):\n",
    "    temp = np.zeros((test_input1.shape[2], test_input1.shape[3],3), dtype=np.uint8)\n",
    "    temp[:,:,:2]=np.transpose(test_input1[ii], (1,2,0))\n",
    "    temp = np.uint8(np.around((cv2.resize(temp/255.0, None, fx=scale, fy=scale, interpolation=cv2.INTER_AREA))*255.0))\n",
    "    temps[ii] = np.transpose(temp[:,:,:2], (2,0,1))\n",
    "test_input1 = np.copy(temps)\n",
    "print (test_input1.shape, np.min(test_input1,axis=(0,2,3)), np.max(test_input1))\n",
    "del temps"
   ]
  },
  {
   "cell_type": "code",
   "execution_count": 75,
   "metadata": {},
   "outputs": [
    {
     "data": {
      "text/plain": [
       "<matplotlib.image.AxesImage at 0x7f345eef1590>"
      ]
     },
     "execution_count": 75,
     "metadata": {},
     "output_type": "execute_result"
    },
    {
     "data": {
      "image/png": "[encoded data removed]",
      "text/plain": [
       "<Figure size 432x288 with 1 Axes>"
      ]
     },
     "metadata": {
      "needs_background": "light"
     },
     "output_type": "display_data"
    }
   ],
   "source": [
    "tempbgr = np.zeros((36,32,3),np.uint8)\n",
    "tempbgr[:,:,:2]=np.transpose(test_input1[370],(1,2,0))[...,::-1]\n",
    "plt.imshow(tempbgr[:,:,::-1])"
   ]
  },
  {
   "cell_type": "code",
   "execution_count": 76,
   "metadata": {},
   "outputs": [
    {
     "data": {
      "text/plain": [
       "<matplotlib.image.AxesImage at 0x7f345ef07b50>"
      ]
     },
     "execution_count": 76,
     "metadata": {},
     "output_type": "execute_result"
    },
    {
     "data": {
      "image/png": "[encoded data removed]",
      "text/plain": [
       "<Figure size 432x288 with 1 Axes>"
      ]
     },
     "metadata": {
      "needs_background": "light"
     },
     "output_type": "display_data"
    }
   ],
   "source": [
    "tempbgr = np.zeros((36,32,3),np.uint8)\n",
    "tempbgr[:,:,:2]=np.transpose(train_input1[1300],(1,2,0))[...,::-1]\n",
    "plt.imshow(tempbgr[:,:,::-1])"
   ]
  },
  {
   "cell_type": "markdown",
   "metadata": {},
   "source": [
    "# Generate data loader for model training"
   ]
  },
  {
   "cell_type": "code",
   "execution_count": 88,
   "metadata": {},
   "outputs": [],
   "source": [
    "def get_sdm(stim, nlag):    \n",
    "    \"\"\"\n",
    "    Get stimulus design matrix. \n",
    "    ::nlag: time lag, how many frames of the stimulus we \n",
    "            assumed to trigger the response. nlag = 5 is good enough for\n",
    "            our data.\n",
    "    \"\"\"\n",
    "    n_samples = stim.shape[0] # 162000\n",
    "    n_features = stim.shape[1:] # 36 32\n",
    "    frames = np.zeros([n_samples, np.prod(n_features) * nlag])\n",
    "    for i in range(n_samples): # 162000\n",
    "        if i < nlag-1: # the first 149/162000 frames\n",
    "            pad = np.zeros([nlag-i-1, *n_features])\n",
    "            frame = np.ravel(np.vstack([pad, stim[:i+1]]))\n",
    "        else:\n",
    "            frame = np.ravel(stim[i-nlag+1:i+1])\n",
    "        frames[i] = frame\n",
    "    return frames"
   ]
  },
  {
   "cell_type": "markdown",
   "metadata": {},
   "source": [
    "## time lag 50"
   ]
  },
  {
   "cell_type": "markdown",
   "metadata": {},
   "source": [
    "### testing area time lag 150"
   ]
  },
  {
   "cell_type": "code",
   "execution_count": 85,
   "metadata": {},
   "outputs": [],
   "source": [
    "nt = 150 # time lag\n",
    "nh = 36\n",
    "nw = 32\n",
    "dims = [nt, nh, nw] # 50 36 32"
   ]
  },
  {
   "cell_type": "markdown",
   "metadata": {},
   "source": [
    "##### UV channel"
   ]
  },
  {
   "cell_type": "code",
   "execution_count": 86,
   "metadata": {},
   "outputs": [
    {
     "data": {
      "text/plain": [
       "(16200, 36, 32)"
      ]
     },
     "execution_count": 86,
     "metadata": {},
     "output_type": "execute_result"
    }
   ],
   "source": [
    "Stim = train_input1[:,1,:,:];Stim.shape"
   ]
  },
  {
   "cell_type": "code",
   "execution_count": 90,
   "metadata": {},
   "outputs": [
    {
     "data": {
      "text/plain": [
       "(36, 32)"
      ]
     },
     "execution_count": 90,
     "metadata": {},
     "output_type": "execute_result"
    }
   ],
   "source": [
    "Stim.shape[1:]"
   ]
  },
  {
   "cell_type": "code",
   "execution_count": 89,
   "metadata": {},
   "outputs": [],
   "source": [
    "X_UV = get_sdm(Stim, nt)"
   ]
  },
  {
   "cell_type": "code",
   "execution_count": 94,
   "metadata": {},
   "outputs": [
    {
     "name": "stdout",
     "output_type": "stream",
     "text": [
      "(16200, 2, 50, 36, 32)\n",
      "(750, 2, 50, 36, 32)\n"
     ]
    }
   ],
   "source": [
    "# save train and test stimulus separately\n",
    "nt = 50 # time lag\n",
    "nh = 36\n",
    "nw = 32\n",
    "dims = [nt, nh, nw] # 50 36 32\n",
    "\n",
    "Stim = train_input1[:,1,:,:]\n",
    "X_UV = get_sdm(Stim, nt)\n",
    "X_UV = np.reshape(X_UV,(-1,nt,nh,nw))\n",
    "X_UV = np.expand_dims(X_UV,axis=1)\n",
    "Stim=train_input1[:,0,:,:]\n",
    "X_G = get_sdm(Stim, nt)\n",
    "X_G = np.reshape(X_G,(-1,nt,nh,nw))\n",
    "X_G = np.expand_dims(X_G,axis=1)\n",
    "train_input2 = np.concatenate((X_UV,X_G),axis=1).astype(np.uint8) # UV+g\n",
    "print (train_input2.shape) # shape: batch_size,color_channel,time_lags,height,width\n",
    "#\n",
    "Stim = test_input1[:,1,:,:]\n",
    "X_UV = get_sdm(Stim, nt)\n",
    "X_UV = np.reshape(X_UV,(-1,nt,nh,nw))\n",
    "X_UV = np.expand_dims(X_UV,axis=1)\n",
    "Stim=test_input1[:,0,:,:]\n",
    "X_G = get_sdm(Stim, nt)\n",
    "X_G = np.reshape(X_G,(-1,nt,nh,nw))\n",
    "X_G = np.expand_dims(X_G,axis=1)\n",
    "test_input2=np.concatenate((X_UV,X_G),axis=1).astype(np.uint8) #UV+g\n",
    "print (test_input2.shape) # shape: batch_size,color_channel,time_lags,height,width"
   ]
  },
  {
   "cell_type": "code",
   "execution_count": 96,
   "metadata": {},
   "outputs": [
    {
     "data": {
      "text/plain": [
       "<matplotlib.image.AxesImage at 0x7f897dcc3b50>"
      ]
     },
     "execution_count": 96,
     "metadata": {},
     "output_type": "execute_result"
    },
    {
     "data": {
      "image/png": "[encoded data removed]",
      "text/plain": [
       "<Figure size 432x288 with 1 Axes>"
      ]
     },
     "metadata": {
      "needs_background": "light"
     },
     "output_type": "display_data"
    }
   ],
   "source": [
    "tempbgr=np.zeros((36,32,3),np.uint8)\n",
    "tempbgr[:,:,:2]=np.transpose(train_input2[370,:,10],(1,2,0))\n",
    "plt.imshow(tempbgr[:,:,::-1])"
   ]
  },
  {
   "cell_type": "code",
   "execution_count": 97,
   "metadata": {},
   "outputs": [
    {
     "data": {
      "text/plain": [
       "<matplotlib.image.AxesImage at 0x7f897dc36700>"
      ]
     },
     "execution_count": 97,
     "metadata": {},
     "output_type": "execute_result"
    },
    {
     "data": {
      "image/png": "[encoded data removed]",
      "text/plain": [
       "<Figure size 432x288 with 1 Axes>"
      ]
     },
     "metadata": {
      "needs_background": "light"
     },
     "output_type": "display_data"
    }
   ],
   "source": [
    "tempbgr=np.zeros((36,32,3),np.uint8)\n",
    "tempbgr[:,:,:2]=np.transpose(test_input2[370,:,10],(1,2,0))\n",
    "plt.imshow(tempbgr[:,:,::-1])"
   ]
  },
  {
   "cell_type": "code",
   "execution_count": 98,
   "metadata": {},
   "outputs": [],
   "source": [
    "#np.save('natural_20210929ventral_train_input_tlag50.npy', train_input2)\n",
    "#np.save('natural_20210929ventral_test_input_tlag50.npy', test_input2)"
   ]
  },
  {
   "cell_type": "code",
   "execution_count": 95,
   "metadata": {},
   "outputs": [
    {
     "data": {
      "text/plain": [
       "(255, 5)"
      ]
     },
     "execution_count": 95,
     "metadata": {},
     "output_type": "execute_result"
    }
   ],
   "source": [
    "np.max(test_input2), np.min(test_input2[50:])"
   ]
  }
 ],
 "metadata": {
  "kernelspec": {
   "display_name": "Python 3",
   "language": "python",
   "name": "python3"
  },
  "language_info": {
   "codemirror_mode": {
    "name": "ipython",
    "version": 3
   },
   "file_extension": ".py",
   "mimetype": "text/x-python",
   "name": "python",
   "nbconvert_exporter": "python",
   "pygments_lexer": "ipython3",
   "version": "3.7.5"
  }
 },
 "nbformat": 4,
 "nbformat_minor": 4
}
